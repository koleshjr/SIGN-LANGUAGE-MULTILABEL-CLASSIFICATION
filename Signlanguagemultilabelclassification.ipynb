{
  "metadata": {
    "kernelspec": {
      "language": "python",
      "display_name": "Python 3",
      "name": "python3"
    },
    "language_info": {
      "name": "python",
      "version": "3.7.12",
      "mimetype": "text/x-python",
      "codemirror_mode": {
        "name": "ipython",
        "version": 3
      },
      "pygments_lexer": "ipython3",
      "nbconvert_exporter": "python",
      "file_extension": ".py"
    },
    "colab": {
      "name": "Signlanguagemultilabelclassification.ipynb",
      "provenance": [],
      "collapsed_sections": []
    }
  },
  "nbformat_minor": 0,
  "nbformat": 4,
  "cells": [
    {
      "cell_type": "markdown",
      "source": [
        "# SIGN LANGUAGE MULTILABEL CLASSIFICATION WITH FASTAI"
      ],
      "metadata": {
        "id": "lpvOZX_8CBxg"
      }
    },
    {
      "cell_type": "markdown",
      "source": [
        "## INSTALL AND IMPORT ALL THE NECESSARY LIBRARIES"
      ],
      "metadata": {
        "id": "5KQLy6ExCbYR"
      }
    },
    {
      "cell_type": "code",
      "source": [
        "# These are all the necessary libraries we have to install \n",
        "!pip install fastai==2.2.0\n",
        "!pip install -U albumentations\n",
        "!pip install opencv-python==4.5.4.60\n",
        "!pip install -q iterative-stratification"
      ],
      "metadata": {
        "id": "aWFGMDpsB9wi"
      },
      "execution_count": null,
      "outputs": []
    },
    {
      "cell_type": "code",
      "source": [
        "#import albumentations for data augmentation\n",
        "import albumentations\n",
        "#fastai is built on top of torch so import it\n",
        "import torch\n",
        "\n",
        "torch.__version__"
      ],
      "metadata": {
        "execution": {
          "iopub.status.busy": "2022-02-25T06:11:49.448503Z",
          "iopub.execute_input": "2022-02-25T06:11:49.448703Z",
          "iopub.status.idle": "2022-02-25T06:11:51.473520Z",
          "shell.execute_reply.started": "2022-02-25T06:11:49.448681Z",
          "shell.execute_reply": "2022-02-25T06:11:51.472784Z"
        },
        "trusted": true,
        "id": "X4DTyiJRByd-"
      },
      "execution_count": null,
      "outputs": []
    },
    {
      "cell_type": "code",
      "source": [
        "#import everything from fastai\n",
        "from fastai.vision.all import *\n",
        "#import multilabelstratifiedkfold to be used to create folds\n",
        "from iterstrat.ml_stratifiers import MultilabelStratifiedKFold"
      ],
      "metadata": {
        "execution": {
          "iopub.status.busy": "2022-02-25T06:11:59.640762Z",
          "iopub.execute_input": "2022-02-25T06:11:59.641063Z",
          "iopub.status.idle": "2022-02-25T06:11:59.945656Z",
          "shell.execute_reply.started": "2022-02-25T06:11:59.641023Z",
          "shell.execute_reply": "2022-02-25T06:11:59.944918Z"
        },
        "trusted": true,
        "id": "O-fBO25OByeC"
      },
      "execution_count": null,
      "outputs": []
    },
    {
      "cell_type": "markdown",
      "source": [
        "## DATA LOADING AND VIEWING "
      ],
      "metadata": {
        "id": "LmXF4P1QCstl"
      }
    },
    {
      "cell_type": "code",
      "source": [
        "# loading the train data and appending the .jpg extension for easy manipulation\n",
        "path = Path('../input/signprediction/sign_prediction')\n",
        "\n",
        "train_df = pd.read_csv(path/'Train.csv')\n",
        "\n",
        "train_df['img_IDS'] = train_df['img_IDS'].apply(str) + \".jpg\"\n",
        "\n",
        "train_df['img_IDS'] = \"../input/signprediction/sign_prediction/Images/\" + train_df['img_IDS']\n",
        "\n",
        "train_df.head()"
      ],
      "metadata": {
        "execution": {
          "iopub.status.busy": "2022-02-25T06:11:59.946962Z",
          "iopub.execute_input": "2022-02-25T06:11:59.947228Z",
          "iopub.status.idle": "2022-02-25T06:12:00.010409Z",
          "shell.execute_reply.started": "2022-02-25T06:11:59.947195Z",
          "shell.execute_reply": "2022-02-25T06:12:00.009628Z"
        },
        "trusted": true,
        "id": "UVS85lrCByeD"
      },
      "execution_count": null,
      "outputs": []
    },
    {
      "cell_type": "markdown",
      "source": [
        "### CREATING STRATIFIED KFOLDS"
      ],
      "metadata": {
        "id": "Cvflpi3GC2j-"
      }
    },
    {
      "cell_type": "code",
      "source": [
        "#creating 3 shuffled stratified kfold\n",
        "strat_kfold = MultilabelStratifiedKFold(n_splits=3, random_state=42, shuffle=True)\n",
        "train_df['fold'] = -1\n",
        "for i, (_, test_index) in enumerate(strat_kfold.split(train_df.img_IDS.values, train_df.iloc[:,1:].values)):\n",
        "    train_df.iloc[test_index, -1] = i\n",
        "train_df.head()"
      ],
      "metadata": {
        "execution": {
          "iopub.status.busy": "2022-02-25T06:12:00.011853Z",
          "iopub.execute_input": "2022-02-25T06:12:00.012124Z",
          "iopub.status.idle": "2022-02-25T06:12:00.247904Z",
          "shell.execute_reply.started": "2022-02-25T06:12:00.012088Z",
          "shell.execute_reply": "2022-02-25T06:12:00.247229Z"
        },
        "trusted": true,
        "id": "9ewacMlaByeE"
      },
      "execution_count": null,
      "outputs": []
    },
    {
      "cell_type": "code",
      "source": [
        "#plot the folds to ensure that they are of equal portions\n",
        "train_df.fold.value_counts().plot.bar();"
      ],
      "metadata": {
        "execution": {
          "iopub.status.busy": "2022-02-25T06:12:00.249018Z",
          "iopub.execute_input": "2022-02-25T06:12:00.249256Z",
          "iopub.status.idle": "2022-02-25T06:12:00.458992Z",
          "shell.execute_reply.started": "2022-02-25T06:12:00.249224Z",
          "shell.execute_reply": "2022-02-25T06:12:00.458247Z"
        },
        "trusted": true,
        "id": "fk5YEdYOByeG"
      },
      "execution_count": null,
      "outputs": []
    },
    {
      "cell_type": "markdown",
      "source": [
        "### CREATING A SPECIAL TRANSFORM CLASS TO USE ALBUMENTATIONS"
      ],
      "metadata": {
        "id": "6aXsUMbTDAUM"
      }
    },
    {
      "cell_type": "code",
      "source": [
        "class AlbumentationsTransform (RandTransform):\n",
        "    split_idx,order=None,2\n",
        "    def __init__(self, train_aug, valid_aug): store_attr()\n",
        "    \n",
        "    def before_call(self, b, split_idx):\n",
        "        self.idx = split_idx\n",
        "    \n",
        "    def encodes(self, img: PILImage):\n",
        "        if self.idx == 0:\n",
        "            aug_img = self.train_aug(image=np.array(img))['image']\n",
        "        else:\n",
        "            aug_img = self.valid_aug(image=np.array(img))['image']\n",
        "        return PILImage.create(aug_img)"
      ],
      "metadata": {
        "execution": {
          "iopub.status.busy": "2022-02-25T06:12:00.460092Z",
          "iopub.execute_input": "2022-02-25T06:12:00.460347Z",
          "iopub.status.idle": "2022-02-25T06:12:00.467237Z",
          "shell.execute_reply.started": "2022-02-25T06:12:00.460311Z",
          "shell.execute_reply": "2022-02-25T06:12:00.466442Z"
        },
        "trusted": true,
        "id": "xe5r4A8AByeI"
      },
      "execution_count": null,
      "outputs": []
    },
    {
      "cell_type": "code",
      "source": [
        "#define all the augmentations you need\n",
        "def get_train_aug(): return albumentations.Compose([\n",
        "            albumentations.Resize(512, 512),\n",
        "            # albumentations.RandomBrightness(),\n",
        "            # albumentations.RandomRotate90(),\n",
        "            # albumentations.Rotate(limit=(-90, 90)),\n",
        "            # albumentations.Transpose(),\n",
        "            # albumentations.RandomContrast(),\n",
        "            # albumentations.RandomBrightnessContrast(),\n",
        "            # albumentations.RandomGamma(),\n",
        "            # albumentations.Blur(),\n",
        "            albumentations.HorizontalFlip(p=0.5),\n",
        "            albumentations.VerticalFlip(p=0.5),\n",
        "            albumentations.ShiftScaleRotate(p=0.5),\n",
        "            albumentations.HueSaturationValue(\n",
        "                hue_shift_limit=0.2, \n",
        "                sat_shift_limit=0.2, \n",
        "                val_shift_limit=0.2, \n",
        "                p=0.5\n",
        "            ),\n",
        "            albumentations.RandomBrightnessContrast(\n",
        "                brightness_limit=(-0.1,0.1), \n",
        "                contrast_limit=(-0.1, 0.1), \n",
        "                p=0.5\n",
        "            ),\n",
        "            ], p=1.)\n",
        "\n",
        "\n",
        "\n",
        "def get_valid_aug(): return albumentations.Compose([\n",
        "            albumentations.Resize(512, 512),\n",
        "            ], p=1.0)\n",
        "\n",
        "item_tfms = AlbumentationsTransform(get_train_aug(), get_valid_aug())\n",
        "batch_tfms = [Normalize.from_stats(*imagenet_stats)]\n"
      ],
      "metadata": {
        "execution": {
          "iopub.status.busy": "2022-02-25T06:12:00.468693Z",
          "iopub.execute_input": "2022-02-25T06:12:00.468993Z",
          "iopub.status.idle": "2022-02-25T06:12:03.255767Z",
          "shell.execute_reply.started": "2022-02-25T06:12:00.468957Z",
          "shell.execute_reply": "2022-02-25T06:12:03.255007Z"
        },
        "trusted": true,
        "id": "CzjDYuwEByeJ"
      },
      "execution_count": null,
      "outputs": []
    },
    {
      "cell_type": "markdown",
      "source": [
        "### CREATING THE FASTAI DATABLOCK"
      ],
      "metadata": {
        "id": "qDQ85PCMDK8z"
      }
    },
    {
      "cell_type": "code",
      "source": [
        "# to learn more about datablocks in fast you have to visit fastai.docs\n",
        "def get_data(fold=0, size=224,bs=32):\n",
        "    return DataBlock(blocks=(ImageBlock,MultiCategoryBlock),\n",
        "                 get_x=ColReader(0),\n",
        "                 get_y=ColReader(1, label_delim=' '),\n",
        "                 splitter=IndexSplitter(train_df[train_df.fold == fold].index),\n",
        "                 item_tfms = item_tfms,\n",
        "                 batch_tfms = batch_tfms).dataloaders(train_df, bs=bs)"
      ],
      "metadata": {
        "execution": {
          "iopub.status.busy": "2022-02-25T06:12:03.256980Z",
          "iopub.execute_input": "2022-02-25T06:12:03.257236Z",
          "iopub.status.idle": "2022-02-25T06:12:03.263134Z",
          "shell.execute_reply.started": "2022-02-25T06:12:03.257201Z",
          "shell.execute_reply": "2022-02-25T06:12:03.262323Z"
        },
        "trusted": true,
        "id": "rvdCjbh2ByeK"
      },
      "execution_count": null,
      "outputs": []
    },
    {
      "cell_type": "markdown",
      "source": [
        "### CREATING YOUR OWN SPECIAL METRICS"
      ],
      "metadata": {
        "id": "gFbcRCF4DVSW"
      }
    },
    {
      "cell_type": "code",
      "source": [
        "# This is not necessary since fastai already has an inbuilt accuracy_multi metrics for multilabel classifications\n",
        "def accuracy_multi(inp, targ, thresh=0.5, sigmoid=True):\n",
        "    \"Compute accuracy when `inp` and `targ` are the same size.\"\n",
        "    if sigmoid: inp = inp.sigmoid()\n",
        "    return ((inp>thresh)==targ.bool()).float().mean()"
      ],
      "metadata": {
        "execution": {
          "iopub.status.busy": "2022-02-25T06:12:03.264112Z",
          "iopub.execute_input": "2022-02-25T06:12:03.264523Z",
          "iopub.status.idle": "2022-02-25T06:12:03.299715Z",
          "shell.execute_reply.started": "2022-02-25T06:12:03.264488Z",
          "shell.execute_reply": "2022-02-25T06:12:03.299087Z"
        },
        "trusted": true,
        "id": "ibu2BxFdByeL"
      },
      "execution_count": null,
      "outputs": []
    },
    {
      "cell_type": "code",
      "source": [
        "def F_score(output, label, threshold=0.2, beta=1):\n",
        "    prob = output > threshold\n",
        "    label = label > threshold\n",
        "\n",
        "    TP = (prob & label).sum(1).float()\n",
        "    TN = ((~prob) & (~label)).sum(1).float()\n",
        "    FP = (prob & (~label)).sum(1).float()\n",
        "    FN = ((~prob) & label).sum(1).float()\n",
        "\n",
        "    precision = torch.mean(TP / (TP + FP + 1e-12))\n",
        "    recall = torch.mean(TP / (TP + FN + 1e-12))\n",
        "    F2 = (1 + beta**2) * precision * recall / (beta**2 * precision + recall + 1e-12)\n",
        "    return F2.mean(0)"
      ],
      "metadata": {
        "execution": {
          "iopub.status.busy": "2022-02-25T06:12:03.303375Z",
          "iopub.execute_input": "2022-02-25T06:12:03.304005Z",
          "iopub.status.idle": "2022-02-25T06:12:03.311244Z",
          "shell.execute_reply.started": "2022-02-25T06:12:03.303975Z",
          "shell.execute_reply": "2022-02-25T06:12:03.310546Z"
        },
        "trusted": true,
        "id": "Yz7Y99WyByeM"
      },
      "execution_count": null,
      "outputs": []
    },
    {
      "cell_type": "markdown",
      "source": [
        "### LOADING THE TEST DATA AND MAKE NECESSARY MODIFICATIONS"
      ],
      "metadata": {
        "id": "rGvcDLtkDiEE"
      }
    },
    {
      "cell_type": "code",
      "source": [
        "#load the test data and add the .jpg extension plus the path \n",
        "test_df = pd.read_csv('../input/signprediction/sign_prediction/SampleSubmission.csv')\n",
        "tstpng = test_df.copy()\n",
        "tstpng['img_IDS'] = tstpng['img_IDS'].apply(str) + \".jpg\"\n",
        "tstpng['img_IDS'] = \"../input/signprediction/sign_prediction/Images/\" + tstpng['img_IDS']\n",
        "tstpng.head()"
      ],
      "metadata": {
        "execution": {
          "iopub.status.busy": "2022-02-25T06:12:03.312191Z",
          "iopub.execute_input": "2022-02-25T06:12:03.313526Z",
          "iopub.status.idle": "2022-02-25T06:12:03.347736Z",
          "shell.execute_reply.started": "2022-02-25T06:12:03.313488Z",
          "shell.execute_reply": "2022-02-25T06:12:03.347059Z"
        },
        "trusted": true,
        "id": "B279LRV3ByeO"
      },
      "execution_count": null,
      "outputs": []
    },
    {
      "cell_type": "markdown",
      "source": [
        "## MODELLING"
      ],
      "metadata": {
        "id": "EsGzlGHJDuxH"
      }
    },
    {
      "cell_type": "code",
      "source": [
        "# I am going to use mixup in my training, for more information about how mix up work go to the official fastai.docs\n",
        "mixup = MixUp(0.3)"
      ],
      "metadata": {
        "execution": {
          "iopub.status.busy": "2022-02-25T06:12:03.348901Z",
          "iopub.execute_input": "2022-02-25T06:12:03.349132Z",
          "iopub.status.idle": "2022-02-25T06:12:03.354083Z",
          "shell.execute_reply.started": "2022-02-25T06:12:03.349098Z",
          "shell.execute_reply": "2022-02-25T06:12:03.353172Z"
        },
        "trusted": true,
        "id": "jPON_vG0ByeP"
      },
      "execution_count": null,
      "outputs": []
    },
    {
      "cell_type": "code",
      "source": [
        "import gc"
      ],
      "metadata": {
        "execution": {
          "iopub.status.busy": "2022-02-25T06:12:03.355420Z",
          "iopub.execute_input": "2022-02-25T06:12:03.355882Z",
          "iopub.status.idle": "2022-02-25T06:12:03.362081Z",
          "shell.execute_reply.started": "2022-02-25T06:12:03.355844Z",
          "shell.execute_reply": "2022-02-25T06:12:03.361356Z"
        },
        "trusted": true,
        "id": "0vM3AfOpByeQ"
      },
      "execution_count": null,
      "outputs": []
    },
    {
      "cell_type": "code",
      "source": [
        "#in here we are going to do both our training and inference using resnet34 architecture\n",
        "#I have also used alot of advanced techniques like callbacks and if you dont understand please visit the official fastai.docs\n",
        "all_preds = []\n",
        "\n",
        "for i in range(3):\n",
        "    dls = get_data(i,256,64)\n",
        "    learn = cnn_learner(dls, resnet34, metrics=[partial(accuracy_multi, thresh=0.2),partial(F_score, threshold=0.2)],cbs=mixup).to_fp16()\n",
        "    learn.fit_one_cycle(10, cbs=EarlyStoppingCallback(monitor='valid_loss'))\n",
        "    learn.dls = get_data(i,512,32)\n",
        "    learn.fine_tune(10,cbs=EarlyStoppingCallback(monitor='valid_loss'))\n",
        "    tst_dl = learn.dls.test_dl(tstpng)\n",
        "    preds, _ = learn.get_preds(dl=tst_dl)\n",
        "    all_preds.append(preds)\n",
        "    del learn\n",
        "    torch.cuda.empty_cache()\n",
        "    gc.collect()\n"
      ],
      "metadata": {
        "execution": {
          "iopub.status.busy": "2022-02-25T06:12:03.363625Z",
          "iopub.execute_input": "2022-02-25T06:12:03.364817Z",
          "iopub.status.idle": "2022-02-25T08:28:35.131194Z",
          "shell.execute_reply.started": "2022-02-25T06:12:03.364786Z",
          "shell.execute_reply": "2022-02-25T08:28:35.130353Z"
        },
        "trusted": true,
        "id": "RxRbUOmGByeQ"
      },
      "execution_count": null,
      "outputs": []
    },
    {
      "cell_type": "markdown",
      "source": [
        "## PREPARING THE SUBMISSION"
      ],
      "metadata": {
        "id": "qc2b-cfXEDWp"
      }
    },
    {
      "cell_type": "code",
      "source": [
        "preds = np.mean(np.stack(all_preds), axis=0)"
      ],
      "metadata": {
        "execution": {
          "iopub.status.busy": "2022-02-25T08:28:35.132872Z",
          "iopub.execute_input": "2022-02-25T08:28:35.133157Z",
          "iopub.status.idle": "2022-02-25T08:28:35.139473Z",
          "shell.execute_reply.started": "2022-02-25T08:28:35.133116Z",
          "shell.execute_reply": "2022-02-25T08:28:35.138575Z"
        },
        "trusted": true,
        "id": "jx3mhmpDByeR"
      },
      "execution_count": null,
      "outputs": []
    },
    {
      "cell_type": "code",
      "source": [
        "k=[]\n",
        "for col in tstpng.columns: \n",
        "  k.append(col) # creating list of the label\n",
        "\n",
        "k"
      ],
      "metadata": {
        "execution": {
          "iopub.status.busy": "2022-02-25T08:37:26.537539Z",
          "iopub.execute_input": "2022-02-25T08:37:26.538030Z",
          "iopub.status.idle": "2022-02-25T08:37:26.544140Z",
          "shell.execute_reply.started": "2022-02-25T08:37:26.537991Z",
          "shell.execute_reply": "2022-02-25T08:37:26.543260Z"
        },
        "trusted": true,
        "id": "AF9XbKLlByeR"
      },
      "execution_count": null,
      "outputs": []
    },
    {
      "cell_type": "code",
      "source": [
        "test_df = pd.read_csv(\"../input/signprediction/sign_prediction/Test.csv\")"
      ],
      "metadata": {
        "execution": {
          "iopub.status.busy": "2022-02-25T08:37:35.986272Z",
          "iopub.execute_input": "2022-02-25T08:37:35.987001Z",
          "iopub.status.idle": "2022-02-25T08:37:36.016450Z",
          "shell.execute_reply.started": "2022-02-25T08:37:35.986963Z",
          "shell.execute_reply": "2022-02-25T08:37:36.015817Z"
        },
        "trusted": true,
        "id": "lKnGlKLnByeS"
      },
      "execution_count": null,
      "outputs": []
    },
    {
      "cell_type": "code",
      "source": [
        "import os\n",
        "submission = pd.DataFrame()\n",
        "submission[\"ID\"] = test_df[\"img_IDS\"]\n",
        "for i, c in enumerate(dls.vocab):\n",
        "  print(c)\n",
        "  submission[c] = preds[:,i]\n",
        "submission.head()"
      ],
      "metadata": {
        "execution": {
          "iopub.status.busy": "2022-02-25T08:38:23.955881Z",
          "iopub.execute_input": "2022-02-25T08:38:23.956143Z",
          "iopub.status.idle": "2022-02-25T08:38:23.984042Z",
          "shell.execute_reply.started": "2022-02-25T08:38:23.956113Z",
          "shell.execute_reply": "2022-02-25T08:38:23.983329Z"
        },
        "trusted": true,
        "id": "pQzmWU6kByeT"
      },
      "execution_count": null,
      "outputs": []
    },
    {
      "cell_type": "code",
      "source": [
        "submission.to_csv('baseline_model_16.csv', index=False)"
      ],
      "metadata": {
        "execution": {
          "iopub.status.busy": "2022-02-25T08:38:40.432705Z",
          "iopub.execute_input": "2022-02-25T08:38:40.432953Z",
          "iopub.status.idle": "2022-02-25T08:38:40.473944Z",
          "shell.execute_reply.started": "2022-02-25T08:38:40.432926Z",
          "shell.execute_reply": "2022-02-25T08:38:40.473269Z"
        },
        "trusted": true,
        "id": "zmuvIJoDByeT"
      },
      "execution_count": null,
      "outputs": []
    },
    {
      "cell_type": "code",
      "source": [
        ""
      ],
      "metadata": {
        "id": "uhnH4tzdByeU"
      },
      "execution_count": null,
      "outputs": []
    }
  ]
}